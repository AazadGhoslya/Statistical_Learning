{
 "cells": [
  {
   "cell_type": "code",
   "execution_count": 5,
   "metadata": {},
   "outputs": [
    {
     "name": "stderr",
     "output_type": "stream",
     "text": [
      "Loading required package: ParamHelpers\n",
      "\n",
      "Warning message: 'mlr' is in 'maintenance-only' mode since July 2019.\n",
      "Future development will only happen in 'mlr3'\n",
      "(<https://mlr3.mlr-org.com>). Due to the focus on 'mlr3' there might be\n",
      "uncaught bugs meanwhile in {mlr} - please consider switching.\n",
      "\n",
      "Loading required package: ggplot2\n",
      "\n",
      "Loading required package: lattice\n",
      "\n",
      "\n",
      "Attaching package: 'lattice'\n",
      "\n",
      "\n",
      "The following object is masked from 'package:boot':\n",
      "\n",
      "    melanoma\n",
      "\n",
      "\n",
      "\n",
      "Attaching package: 'caret'\n",
      "\n",
      "\n",
      "The following object is masked from 'package:mlr':\n",
      "\n",
      "    train\n",
      "\n",
      "\n",
      "Type 'citation(\"pROC\")' for a citation.\n",
      "\n",
      "\n",
      "Attaching package: 'pROC'\n",
      "\n",
      "\n",
      "The following objects are masked from 'package:stats':\n",
      "\n",
      "    cov, smooth, var\n",
      "\n",
      "\n",
      "\n",
      "Attaching package: 'e1071'\n",
      "\n",
      "\n",
      "The following object is masked from 'package:mlr':\n",
      "\n",
      "    impute\n",
      "\n",
      "\n"
     ]
    },
    {
     "ename": "ERROR",
     "evalue": "Error in library(gridExtra): there is no package called 'gridExtra'\n",
     "output_type": "error",
     "traceback": [
      "Error in library(gridExtra): there is no package called 'gridExtra'\nTraceback:\n",
      "1. library(gridExtra)"
     ]
    }
   ],
   "source": [
    "# Set environment params\n",
    "Sys.setenv(LANG='en')  # English\n",
    "\n",
    "# Import libraries\n",
    "library(data.table)  # Data manipulate\n",
    "library(mlr)         # ML toolkit\n",
    "library(caret)       # ML toolkit\n",
    "library(ggplot2)     # Visualization\n",
    "library(pROC)        # AUC, ROC\n",
    "library(e1071)       # Evaluation\n",
    "library(gridExtra)   # Visualization\n",
    "library(kknn)        # kNN model\n",
    "library(nnet)        # One-vs-All Logistic Regression\n",
    "library(dummies)     # Data processing\n",
    "\n",
    "# Import data\n",
    "library(ISLR)      # Data from the course book\n",
    "library(MASS)      # Boston housing dataset\n",
    "\n",
    "library(datasets)  # US crime dataset\n",
    "\n",
    "# Resize plot\n",
    "library(repr)  # String and binary representations\n",
    "#options(repr.plot.width=4, repr.plot.height=4)\n",
    "\n",
    "R.version.string"
   ]
  },
  {
   "cell_type": "code",
   "execution_count": null,
   "metadata": {},
   "outputs": [],
   "source": [
    "# Exercise 3\n",
    "#(a) It is implemented by randomly dividing set of observations itno k groups or folds of eaual size. The first fold is treated as the \n",
    "#validation set and the model is fitted on the remaining folds. This procedure is repeated several times with different nodes eac time.\n",
    "\n",
    "#(b) K fold has lower variablity than validation set.\n",
    "    #Validation set is easier to grasp as compare to K fold.\n",
    "#In case of LOOCV and K fold the K fold gives more accurate reults.\n",
    "    #LOOCV in some cases requires less computational power than K fold."
   ]
  },
  {
   "cell_type": "code",
   "execution_count": 6,
   "metadata": {},
   "outputs": [],
   "source": [
    "library(ISLR)\n",
    "df <- Default"
   ]
  },
  {
   "cell_type": "code",
   "execution_count": 8,
   "metadata": {},
   "outputs": [],
   "source": [
    "# Exercise 8\n",
    "#(a)\n",
    "set.seed(123)\n",
    "x = rnorm(100)\n",
    "y = x-2*x^2+rnorm(100)"
   ]
  },
  {
   "cell_type": "code",
   "execution_count": 9,
   "metadata": {},
   "outputs": [
    {
     "data": {
      "image/png": "[encoded data removed]",
      "text/plain": [
       "plot without title"
      ]
     },
     "metadata": {
      "image/png": {
       "height": 420,
       "width": 420
      }
     },
     "output_type": "display_data"
    }
   ],
   "source": [
    "#(b)\n",
    "ggplot(mapping = aes(x=x , y=y)) + \n",
    "geom_point() + geom_smooth(method = \"lm\", formula = \"y ~ x + I(x^2)\")"
   ]
  },
  {
   "cell_type": "code",
   "execution_count": null,
   "metadata": {},
   "outputs": [],
   "source": [
    "# We can observe that least square fits the model well"
   ]
  },
  {
   "cell_type": "code",
   "execution_count": 10,
   "metadata": {},
   "outputs": [
    {
     "data": {
      "text/html": [
       "<style>\n",
       ".list-inline {list-style: none; margin:0; padding: 0}\n",
       ".list-inline>li {display: inline-block}\n",
       ".list-inline>li:not(:last-child)::after {content: \"\\00b7\"; padding: 0 .5ex}\n",
       "</style>\n",
       "<ol class=list-inline><li>6.97521182500645</li><li>6.97206528900957</li></ol>\n"
      ],
      "text/latex": [
       "\\begin{enumerate*}\n",
       "\\item 6.97521182500645\n",
       "\\item 6.97206528900957\n",
       "\\end{enumerate*}\n"
      ],
      "text/markdown": [
       "1. 6.97521182500645\n",
       "2. 6.97206528900957\n",
       "\n",
       "\n"
      ],
      "text/plain": [
       "[1] 6.975212 6.972065"
      ]
     },
     "metadata": {},
     "output_type": "display_data"
    }
   ],
   "source": [
    "#(c)\n",
    "library(boot)\n",
    "Data = data.frame(x, y)\n",
    "set.seed(123)\n",
    "# 1\n",
    "glm.fit = glm(y ~ x)\n",
    "cv.glm(Data, glm.fit)$delta"
   ]
  },
  {
   "cell_type": "code",
   "execution_count": 11,
   "metadata": {},
   "outputs": [
    {
     "data": {
      "text/html": [
       "<style>\n",
       ".list-inline {list-style: none; margin:0; padding: 0}\n",
       ".list-inline>li {display: inline-block}\n",
       ".list-inline>li:not(:last-child)::after {content: \"\\00b7\"; padding: 0 .5ex}\n",
       "</style>\n",
       "<ol class=list-inline><li>0.966467776168288</li><li>0.96619356063984</li></ol>\n"
      ],
      "text/latex": [
       "\\begin{enumerate*}\n",
       "\\item 0.966467776168288\n",
       "\\item 0.96619356063984\n",
       "\\end{enumerate*}\n"
      ],
      "text/markdown": [
       "1. 0.966467776168288\n",
       "2. 0.96619356063984\n",
       "\n",
       "\n"
      ],
      "text/plain": [
       "[1] 0.9664678 0.9661936"
      ]
     },
     "metadata": {},
     "output_type": "display_data"
    }
   ],
   "source": [
    "#2\n",
    "glm.fit = glm(y ~ poly(x, 2))\n",
    "cv.glm(Data, glm.fit)$delta"
   ]
  },
  {
   "cell_type": "code",
   "execution_count": 12,
   "metadata": {},
   "outputs": [
    {
     "data": {
      "text/html": [
       "<style>\n",
       ".list-inline {list-style: none; margin:0; padding: 0}\n",
       ".list-inline>li {display: inline-block}\n",
       ".list-inline>li:not(:last-child)::after {content: \"\\00b7\"; padding: 0 .5ex}\n",
       "</style>\n",
       "<ol class=list-inline><li>1.00001743063605</li><li>0.999529906458445</li></ol>\n"
      ],
      "text/latex": [
       "\\begin{enumerate*}\n",
       "\\item 1.00001743063605\n",
       "\\item 0.999529906458445\n",
       "\\end{enumerate*}\n"
      ],
      "text/markdown": [
       "1. 1.00001743063605\n",
       "2. 0.999529906458445\n",
       "\n",
       "\n"
      ],
      "text/plain": [
       "[1] 1.0000174 0.9995299"
      ]
     },
     "metadata": {},
     "output_type": "display_data"
    }
   ],
   "source": [
    "#3\n",
    "glm.fit = glm(y ~ poly(x, 3))\n",
    "cv.glm(Data, glm.fit)$delta"
   ]
  },
  {
   "cell_type": "code",
   "execution_count": 13,
   "metadata": {},
   "outputs": [
    {
     "data": {
      "text/html": [
       "<style>\n",
       ".list-inline {list-style: none; margin:0; padding: 0}\n",
       ".list-inline>li {display: inline-block}\n",
       ".list-inline>li:not(:last-child)::after {content: \"\\00b7\"; padding: 0 .5ex}\n",
       "</style>\n",
       "<ol class=list-inline><li>0.999321536695789</li><li>0.998780904161758</li></ol>\n"
      ],
      "text/latex": [
       "\\begin{enumerate*}\n",
       "\\item 0.999321536695789\n",
       "\\item 0.998780904161758\n",
       "\\end{enumerate*}\n"
      ],
      "text/markdown": [
       "1. 0.999321536695789\n",
       "2. 0.998780904161758\n",
       "\n",
       "\n"
      ],
      "text/plain": [
       "[1] 0.9993215 0.9987809"
      ]
     },
     "metadata": {},
     "output_type": "display_data"
    }
   ],
   "source": [
    "#4\n",
    "glm.fit = glm(y ~ poly(x, 4))\n",
    "cv.glm(Data, glm.fit)$delta"
   ]
  },
  {
   "cell_type": "code",
   "execution_count": null,
   "metadata": {},
   "outputs": [],
   "source": [
    "#(d)\n",
    "#Same as (c) because LOOCV is same"
   ]
  },
  {
   "cell_type": "code",
   "execution_count": null,
   "metadata": {},
   "outputs": [],
   "source": [
    "#(e)\n",
    "# The quadratic polynomail had the lowest LOOCV error."
   ]
  },
  {
   "cell_type": "code",
   "execution_count": null,
   "metadata": {},
   "outputs": [],
   "source": [
    "#Exercise 6\n",
    "#1\n",
    "#(a) subset selection\n",
    "#(b) Subset Selection\n",
    "#(c) True, True, False, True, False"
   ]
  },
  {
   "cell_type": "code",
   "execution_count": 15,
   "metadata": {},
   "outputs": [],
   "source": [
    "#9\n",
    "#1\n",
    "library(ISLR)\n",
    "set.seed(123)"
   ]
  },
  {
   "cell_type": "code",
   "execution_count": 16,
   "metadata": {},
   "outputs": [],
   "source": [
    "train.size = dim(College)[1] / 2\n",
    "train = sample(1:dim(College)[1], train.size)\n",
    "test = -train\n",
    "train_College = College[train, ]\n",
    "test_College = College[test, ]"
   ]
  },
  {
   "cell_type": "code",
   "execution_count": 22,
   "metadata": {},
   "outputs": [
    {
     "data": {
      "text/html": [
       "1373994.68331753"
      ],
      "text/latex": [
       "1373994.68331753"
      ],
      "text/markdown": [
       "1373994.68331753"
      ],
      "text/plain": [
       "[1] 1373995"
      ]
     },
     "metadata": {},
     "output_type": "display_data"
    }
   ],
   "source": [
    "#2\n",
    "fit = lm(Apps~., data=train_College)\n",
    "predict = predict(lm.fit, test_College)\n",
    "mean((test_College[, \"Apps\"] - lm.pred)^2)"
   ]
  },
  {
   "cell_type": "code",
   "execution_count": null,
   "metadata": {},
   "outputs": [],
   "source": []
  }
 ],
 "metadata": {
  "kernelspec": {
   "display_name": "R",
   "language": "R",
   "name": "python3102jvsc74a57bd03184211e2b80e7a13ae9f10cba82c6e7ca18c26cd8d69e2618d3bd8b3ee950e6"
  },
  "language_info": {
   "codemirror_mode": "r",
   "file_extension": ".r",
   "mimetype": "text/x-r-source",
   "name": "R",
   "pygments_lexer": "r",
   "version": "4.0.5"
  },
  "orig_nbformat": 4
 },
 "nbformat": 4,
 "nbformat_minor": 2
}
